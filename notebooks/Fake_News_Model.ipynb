{
 "cells": [
  {
   "metadata": {
    "ExecuteTime": {
     "end_time": "2025-10-30T13:04:01.966278Z",
     "start_time": "2025-10-30T13:03:53.884108Z"
    }
   },
   "cell_type": "code",
   "source": [
    "import pandas as pd\n",
    "import numpy as np\n",
    "import re\n",
    "import nltk\n",
    "from nltk.corpus import stopwords\n",
    "from sklearn.model_selection import train_test_split, cross_val_score\n",
    "from sklearn.feature_extraction.text import TfidfVectorizer\n",
    "from sklearn.linear_model import LogisticRegression\n",
    "from sklearn.ensemble import RandomForestClassifier, VotingClassifier\n",
    "from sklearn.metrics import accuracy_score, classification_report, confusion_matrix\n",
    "from sklearn.utils import resample\n",
    "import matplotlib.pyplot as plt\n",
    "import seaborn as sns"
   ],
   "id": "8dba638cf786bee",
   "outputs": [],
   "execution_count": 1
  },
  {
   "metadata": {
    "ExecuteTime": {
     "end_time": "2025-10-30T13:04:07.805681Z",
     "start_time": "2025-10-30T13:04:07.514640Z"
    }
   },
   "cell_type": "code",
   "source": [
    "\n",
    "# Download NLTK stopwords\n",
    "nltk.download('stopwords')\n",
    "stop_words = set(stopwords.words('english'))\n",
    "\n",
    "SEED = 42"
   ],
   "id": "3524dcb18505d9c9",
   "outputs": [
    {
     "name": "stderr",
     "output_type": "stream",
     "text": [
      "[nltk_data] Downloading package stopwords to\n",
      "[nltk_data]     C:\\Users\\lenovo\\AppData\\Roaming\\nltk_data...\n",
      "[nltk_data]   Package stopwords is already up-to-date!\n"
     ]
    }
   ],
   "execution_count": 2
  },
  {
   "metadata": {
    "ExecuteTime": {
     "end_time": "2025-10-30T13:04:13.588408Z",
     "start_time": "2025-10-30T13:04:13.097615Z"
    }
   },
   "cell_type": "code",
   "source": [
    "\n",
    "path = \"D:/Fake_News_Detection/advanced model/data/IFND.csv\"\n",
    "df = pd.read_csv(path, encoding='ISO-8859-1')\n",
    "print(\"Loaded:\", path)\n",
    "print(\"Shape:\", df.shape)\n",
    "print(\"Columns:\", df.columns.tolist())"
   ],
   "id": "a690e325ac3c24fd",
   "outputs": [
    {
     "name": "stdout",
     "output_type": "stream",
     "text": [
      "Loaded: D:/Fake_News_Detection/advanced model/data/IFND.csv\n",
      "Shape: (56714, 7)\n",
      "Columns: ['id', 'Statement', 'Image', 'Web', 'Category', 'Date', 'Label']\n"
     ]
    }
   ],
   "execution_count": 3
  },
  {
   "metadata": {
    "ExecuteTime": {
     "end_time": "2025-10-30T13:04:20.259247Z",
     "start_time": "2025-10-30T13:04:19.349018Z"
    }
   },
   "cell_type": "code",
   "source": [
    "\n",
    "# Clean column names\n",
    "df.columns = df.columns.str.lower()\n",
    "\n",
    "text_col = 'statement'\n",
    "label_col = 'label' if 'label' in df.columns else 'category'\n",
    "\n",
    "\n",
    "def clean_text(text):\n",
    "    text = str(text).lower()\n",
    "    text = re.sub(r\"http\\S+|www\\S+|https\\S+\", \"\", text)\n",
    "    text = re.sub(r\"[^a-z\\s]\", \" \", text)\n",
    "    text = \" \".join([w for w in text.split() if w not in stop_words])\n",
    "    return text\n",
    "\n",
    "\n",
    "df['text_clean'] = df[text_col].apply(clean_text)\n",
    "\n",
    "df[label_col] = df[label_col].astype(str).str.lower().str.strip()\n",
    "mapping = {'true': 1, 'fake': 0}\n",
    "df[label_col] = df[label_col].map(mapping)\n",
    "df = df.dropna(subset=[label_col])\n",
    "\n",
    "print(\"\\nLabel distribution before balancing:\\n\", df[label_col].value_counts())\n",
    "\n",
    "true_df = df[df[label_col] == 1]\n",
    "fake_df = df[df[label_col] == 0]\n",
    "\n",
    "min_len = min(len(true_df), len(fake_df))\n",
    "true_df = resample(true_df, replace=False, n_samples=min_len, random_state=SEED)\n",
    "fake_df = resample(fake_df, replace=False, n_samples=min_len, random_state=SEED)\n",
    "\n",
    "df_balanced = pd.concat([true_df, fake_df]).sample(frac=1, random_state=SEED)\n",
    "print(\"\\nBalanced label counts:\\n\", df_balanced[label_col].value_counts())\n",
    "\n",
    "X = df_balanced['text_clean']\n",
    "y = df_balanced[label_col].astype(int)"
   ],
   "id": "f868b56fdf3d81d6",
   "outputs": [
    {
     "name": "stdout",
     "output_type": "stream",
     "text": [
      "\n",
      "Label distribution before balancing:\n",
      " 1    37800\n",
      "0    18914\n",
      "Name: label, dtype: int64\n",
      "\n",
      "Balanced label counts:\n",
      " 1    18914\n",
      "0    18914\n",
      "Name: label, dtype: int64\n"
     ]
    }
   ],
   "execution_count": 4
  },
  {
   "metadata": {
    "ExecuteTime": {
     "end_time": "2025-10-30T13:04:26.316875Z",
     "start_time": "2025-10-30T13:04:26.263554Z"
    }
   },
   "cell_type": "code",
   "source": [
    "\n",
    "X_train, X_test, y_train, y_test = train_test_split(\n",
    "    X, y, test_size=0.2, random_state=SEED, stratify=y\n",
    ")\n",
    "print(\"\\nTrain size:\", X_train.shape, \"Test size:\", X_test.shape)"
   ],
   "id": "e2a0f0948ac84a7f",
   "outputs": [
    {
     "name": "stdout",
     "output_type": "stream",
     "text": [
      "\n",
      "Train size: (30262,) Test size: (7566,)\n"
     ]
    }
   ],
   "execution_count": 5
  },
  {
   "metadata": {
    "ExecuteTime": {
     "end_time": "2025-10-30T13:04:32.776813Z",
     "start_time": "2025-10-30T13:04:30.593149Z"
    }
   },
   "cell_type": "code",
   "source": [
    "tfidf = TfidfVectorizer(max_features=25000, ngram_range=(1, 3), sublinear_tf=True)\n",
    "X_train_tfidf = tfidf.fit_transform(X_train)\n",
    "X_test_tfidf = tfidf.transform(X_test)\n",
    "print(\"TF-IDF shapes:\", X_train_tfidf.shape, X_test_tfidf.shape)"
   ],
   "id": "7c3da8f40a124251",
   "outputs": [
    {
     "name": "stdout",
     "output_type": "stream",
     "text": [
      "TF-IDF shapes: (30262, 25000) (7566, 25000)\n"
     ]
    }
   ],
   "execution_count": 6
  },
  {
   "metadata": {
    "ExecuteTime": {
     "end_time": "2025-10-30T13:06:00.874386Z",
     "start_time": "2025-10-30T13:04:34.626899Z"
    }
   },
   "cell_type": "code",
   "source": [
    "lr = LogisticRegression(max_iter=500, C=3, random_state=SEED)\n",
    "rf = RandomForestClassifier(\n",
    "    n_estimators=300,\n",
    "    max_depth=25,\n",
    "    random_state=SEED,\n",
    "    class_weight='balanced'\n",
    ")\n",
    "\n",
    "ensemble = VotingClassifier(\n",
    "    estimators=[('lr', lr), ('rf', rf)],\n",
    "    voting='soft'\n",
    ")\n",
    "\n",
    "ensemble.fit(X_train_tfidf, y_train)\n",
    "\n",
    "y_pred = ensemble.predict(X_test_tfidf)\n",
    "\n",
    "print(\"\\n✅ Accuracy:\", round(accuracy_score(y_test, y_pred), 4))\n",
    "print(\"\\n📋 Classification Report:\\n\", classification_report(y_test, y_pred))\n",
    "\n",
    "cm = confusion_matrix(y_test, y_pred)\n",
    "plt.figure(figsize=(6, 4))\n",
    "sns.heatmap(cm, annot=True, fmt='d', cmap='cool')\n",
    "plt.xlabel(\"Predicted\")\n",
    "plt.ylabel(\"Actual\")\n",
    "plt.title(\"🧩 Confusion Matrix - IFND Fake News Detection\")\n",
    "plt.show()\n",
    "\n",
    "scores = cross_val_score(ensemble, tfidf.transform(X), y, cv=5, scoring='accuracy')\n",
    "print(\"\\nBaseline accuracy:\", round(y.value_counts(normalize=True).max(), 4))\n",
    "print(\"CV mean:\", round(scores.mean(), 4), \"std:\", round(scores.std(), 4))\n"
   ],
   "id": "824f888848de57b0",
   "outputs": [
    {
     "name": "stdout",
     "output_type": "stream",
     "text": [
      "\n",
      "✅ Accuracy: 0.9261\n",
      "\n",
      "📋 Classification Report:\n",
      "               precision    recall  f1-score   support\n",
      "\n",
      "           0       0.97      0.87      0.92      3783\n",
      "           1       0.89      0.98      0.93      3783\n",
      "\n",
      "    accuracy                           0.93      7566\n",
      "   macro avg       0.93      0.93      0.93      7566\n",
      "weighted avg       0.93      0.93      0.93      7566\n",
      "\n"
     ]
    },
    {
     "name": "stderr",
     "output_type": "stream",
     "text": [
      "C:\\Users\\lenovo\\AppData\\Local\\Packages\\PythonSoftwareFoundation.Python.3.11_qbz5n2kfra8p0\\LocalCache\\local-packages\\Python311\\site-packages\\IPython\\core\\pylabtools.py:170: UserWarning: Glyph 129513 (\\N{JIGSAW PUZZLE PIECE}) missing from font(s) Arial.\n",
      "  fig.canvas.print_figure(bytes_io, **kw)\n"
     ]
    },
    {
     "data": {
      "text/plain": [
       "<Figure size 600x400 with 2 Axes>"
      ],
      "image/png": "[encoded data removed]"
     },
     "metadata": {},
     "output_type": "display_data"
    },
    {
     "name": "stdout",
     "output_type": "stream",
     "text": [
      "\n",
      "Baseline accuracy: 0.5\n",
      "CV mean: 0.9286 std: 0.0044\n"
     ]
    }
   ],
   "execution_count": 7
  },
  {
   "metadata": {
    "ExecuteTime": {
     "end_time": "2025-10-30T13:20:39.910023Z",
     "start_time": "2025-10-30T13:20:39.687547Z"
    }
   },
   "cell_type": "code",
   "source": [
    "\n",
    "def predict_news(headline):\n",
    "    clean = clean_text(headline)\n",
    "    features = tfidf.transform([clean])\n",
    "    pred = ensemble.predict(features)[0]\n",
    "    prob = ensemble.predict_proba(features)[0][1]\n",
    "    label = \"REAL ✅\" if pred == 1 else \"FAKE ❌\"\n",
    "    print(f\"\\n📰 Headline: {headline}\")\n",
    "    print(f\"🔎 Prediction: {label}\")\n",
    "    print(f\"📊 Confidence: {prob:.2f}\")\n",
    "\n",
    "\n",
    "test_headlines = [\n",
    "    \"Government launches AI-powered scheme for students nationwide\",\n",
    "    \"NASA confirms aliens have landed in Mumbai!\",\n",
    "    \"Prime Minister announces new economic relief package\",\n",
    "    \"Bollywood star claims to have met ghosts in hotel room\",\n",
    "    \"Supreme Court bans plastic nationwide from next year\",\n",
    "    \"Celebrity claims to time travel using quantum energy\"\n",
    "]\n",
    "\n",
    "for h in test_headlines:\n",
    "    predict_news(h)\n",
    "    print(\"-\" * 50)\n"
   ],
   "id": "30efaac14c75dbcb",
   "outputs": [
    {
     "name": "stdout",
     "output_type": "stream",
     "text": [
      "\n",
      "📰 Headline: Government launches AI-powered scheme for students nationwide\n",
      "🔎 Prediction: REAL ✅\n",
      "📊 Confidence: 0.72\n",
      "--------------------------------------------------\n",
      "\n",
      "📰 Headline: NASA confirms aliens have landed in Mumbai!\n",
      "🔎 Prediction: FAKE ❌\n",
      "📊 Confidence: 0.46\n",
      "--------------------------------------------------\n",
      "\n",
      "📰 Headline: Prime Minister announces new economic relief package\n",
      "🔎 Prediction: REAL ✅\n",
      "📊 Confidence: 0.77\n",
      "--------------------------------------------------\n",
      "\n",
      "📰 Headline: Bollywood star claims to have met ghosts in hotel room\n",
      "🔎 Prediction: REAL ✅\n",
      "📊 Confidence: 0.61\n",
      "--------------------------------------------------\n",
      "\n",
      "📰 Headline: Supreme Court bans plastic nationwide from next year\n",
      "🔎 Prediction: REAL ✅\n",
      "📊 Confidence: 0.78\n",
      "--------------------------------------------------\n",
      "\n",
      "📰 Headline: Celebrity claims to time travel using quantum energy\n",
      "🔎 Prediction: FAKE ❌\n",
      "📊 Confidence: 0.38\n",
      "--------------------------------------------------\n"
     ]
    }
   ],
   "execution_count": 10
  },
  {
   "metadata": {
    "ExecuteTime": {
     "end_time": "2025-10-30T12:51:56.642585Z",
     "start_time": "2025-10-30T12:51:56.592278Z"
    }
   },
   "cell_type": "code",
   "outputs": [],
   "execution_count": 82,
   "source": "import joblib\n",
   "id": "d512b13658e64435"
  },
  {
   "metadata": {
    "ExecuteTime": {
     "end_time": "2025-10-30T12:53:10.088592Z",
     "start_time": "2025-10-30T12:53:08.997069Z"
    }
   },
   "cell_type": "code",
   "outputs": [
    {
     "name": "stdout",
     "output_type": "stream",
     "text": [
      "\n",
      "✅ Model and vectorizer saved successfully!\n"
     ]
    }
   ],
   "execution_count": 83,
   "source": [
    "# Save the TF-IDF vectorizer and the trained ensemble model\n",
    "joblib.dump(tfidf, \"tfidf_vectorizer.pkl\")\n",
    "joblib.dump(ensemble, \"fake_news_model.pkl\")\n",
    "\n",
    "print(\"\\n✅ Model and vectorizer saved successfully!\")\n"
   ],
   "id": "6341fba2d77443b6"
  }
 ],
 "metadata": {
  "kernelspec": {
   "display_name": "Python 3",
   "language": "python",
   "name": "python3"
  },
  "language_info": {
   "codemirror_mode": {
    "name": "ipython",
    "version": 2
   },
   "file_extension": ".py",
   "mimetype": "text/x-python",
   "name": "python",
   "nbconvert_exporter": "python",
   "pygments_lexer": "ipython2",
   "version": "2.7.6"
  }
 },
 "nbformat": 4,
 "nbformat_minor": 5
}
